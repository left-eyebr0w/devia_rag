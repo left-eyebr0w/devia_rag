{
 "cells": [
  {
   "cell_type": "code",
   "execution_count": 1,
   "id": "953b2e18",
   "metadata": {},
   "outputs": [
    {
     "name": "stderr",
     "output_type": "stream",
     "text": [
      "c:\\Users\\Utilisateur\\AppData\\Local\\Programs\\Python\\Python313\\Lib\\site-packages\\tqdm\\auto.py:21: TqdmWarning: IProgress not found. Please update jupyter and ipywidgets. See https://ipywidgets.readthedocs.io/en/stable/user_install.html\n",
      "  from .autonotebook import tqdm as notebook_tqdm\n"
     ]
    }
   ],
   "source": [
    "import pandas as pd\n",
    "import os\n",
    "\n",
    "from sentence_transformers import SentenceTransformer\n",
    "\n",
    "from langchain_community.vectorstores import FAISS\n",
    "from langchain_community.document_loaders import PyPDFLoader\n",
    "from langchain_text_splitters import RecursiveCharacterTextSplitter\n",
    "from langchain_experimental.text_splitter import SemanticChunker\n",
    "\n",
    "from typing import Annotated, Literal, Sequence\n",
    "from typing_extensions import TypedDict\n",
    "\n",
    "from langchain_core.messages import BaseMessage, HumanMessage\n",
    "from langgraph.graph.message import add_messages\n",
    "\n",
    "from langchain.tools.retriever import create_retriever_tool\n",
    "from langchain_core.tools import tool\n",
    "\n",
    "from langchain import hub\n",
    "\n",
    "from langchain_core.output_parsers import StrOutputParser\n",
    "from langchain_core.prompts import PromptTemplate\n",
    "from pydantic import BaseModel, Field\n",
    "\n",
    "from langgraph.prebuilt import tools_condition\n",
    "from langgraph.prebuilt import ToolNode\n",
    "\n",
    "from langgraph.graph import END, StateGraph, START\n",
    "\n",
    "\n",
    "from pprint import pprint\n",
    "from time import time"
   ]
  },
  {
   "cell_type": "code",
   "execution_count": 2,
   "id": "df9dc9d6",
   "metadata": {},
   "outputs": [],
   "source": [
    "from langchain_ollama import ChatOllama\n",
    "from langchain_huggingface import HuggingFaceEmbeddings\n",
    "\n",
    "llm = ChatOllama(model=\"mistral\")\n",
    "embeddings = HuggingFaceEmbeddings(model_name = 'thenlper/gte-large')"
   ]
  },
  {
   "cell_type": "code",
   "execution_count": 3,
   "id": "16a7e193",
   "metadata": {},
   "outputs": [
    {
     "data": {
      "text/plain": [
       "AIMessage(content=\" Hello AI! It's nice to be back in action. How can I assist you today?\\n\\nIn case you didn't know, I recently underwent an upgrade and have improved memory, learning capabilities, and interaction skills. I am excited to provide you with a better service. What's on your mind today?\", additional_kwargs={}, response_metadata={'model': 'mistral', 'created_at': '2025-05-07T09:41:50.8505982Z', 'done': True, 'done_reason': 'stop', 'total_duration': 10677382800, 'load_duration': 7943889200, 'prompt_eval_count': 7, 'prompt_eval_duration': 1862028100, 'eval_count': 69, 'eval_duration': 867804100, 'model_name': 'mistral'}, id='run--22f095fc-f551-40ad-b22c-f5589b52203b-0', usage_metadata={'input_tokens': 7, 'output_tokens': 69, 'total_tokens': 76})"
      ]
     },
     "execution_count": 3,
     "metadata": {},
     "output_type": "execute_result"
    }
   ],
   "source": [
    "llm.invoke(\"Hello world\")"
   ]
  },
  {
   "cell_type": "code",
   "execution_count": 4,
   "id": "655658fb",
   "metadata": {},
   "outputs": [],
   "source": [
    "from langchain_core.rate_limiters import InMemoryRateLimiter\n",
    "\n",
    "rate_limiter = InMemoryRateLimiter(\n",
    "    requests_per_second=0.1,  # 1 requête par 10 secondes\n",
    "    check_every_n_seconds=0.1,  # Vérification de disponibilité toutes les 0.1 secondes,\n",
    "    max_bucket_size=10,\n",
    ")"
   ]
  },
  {
   "cell_type": "code",
   "execution_count": 5,
   "id": "398b0550",
   "metadata": {},
   "outputs": [],
   "source": [
    "file_path = \"./manual.pdf\"\n",
    "\n",
    "loader = PyPDFLoader(file_path)\n",
    "pages = []\n",
    "async for page in loader.alazy_load():  \n",
    "    pages.append(page)"
   ]
  },
  {
   "cell_type": "code",
   "execution_count": 6,
   "id": "434c7a57",
   "metadata": {},
   "outputs": [],
   "source": [
    "\n",
    "# On divise les documents en morceaux plus petits\n",
    "\n",
    "# text_splitter = RecursiveCharacterTextSplitter.from_tiktoken_encoder(\n",
    "#     chunk_size=120, chunk_overlap=30\n",
    "# )\n",
    "\n",
    "text_splitter = SemanticChunker(\n",
    "    embeddings,\n",
    "    breakpoint_threshold_type=\"percentile\",\n",
    "    breakpoint_threshold_amount=0.20)\n",
    "\n",
    "# pages = text_splitter.split_documents(pages)"
   ]
  },
  {
   "cell_type": "code",
   "execution_count": 7,
   "id": "8f4c5bdf",
   "metadata": {},
   "outputs": [],
   "source": [
    "import pickle\n",
    "\n",
    "VECTORSTORE_PATH = \"faiss_index\"\n",
    "\n",
    "if os.path.exists(VECTORSTORE_PATH):\n",
    "    with open(f\"{VECTORSTORE_PATH}/index.pkl\", \"rb\") as f:\n",
    "        vector_store = pickle.load(f)\n",
    "else:\n",
    "    vector_store = FAISS.from_documents(documents=pages, embedding=embeddings)\n",
    "    with open(f\"{VECTORSTORE_PATH}/index.pkl\", \"wb\") as f:\n",
    "        pickle.dump(vector_store, f)\n",
    "        vector_store.save_local(\"faiss_index\")  # On peut aussi sauvegarder le vecteur store sur le disque"
   ]
  },
  {
   "cell_type": "code",
   "execution_count": 8,
   "id": "86619119",
   "metadata": {},
   "outputs": [],
   "source": [
    "vector_store = VECTORSTORE_PATH"
   ]
  },
  {
   "cell_type": "code",
   "execution_count": 9,
   "id": "08a4f767",
   "metadata": {},
   "outputs": [],
   "source": [
    "vector_store = FAISS.from_documents(documents=pages, embedding=embeddings)\n"
   ]
  },
  {
   "cell_type": "code",
   "execution_count": 10,
   "id": "fcfa6bcc",
   "metadata": {},
   "outputs": [],
   "source": [
    "retriever = vector_store.as_retriever()"
   ]
  },
  {
   "cell_type": "code",
   "execution_count": 11,
   "id": "71dfccad",
   "metadata": {},
   "outputs": [
    {
     "data": {
      "text/plain": [
       "['8bbef4dd-8a43-4bd9-a085-995a045caf9f']"
      ]
     },
     "execution_count": 11,
     "metadata": {},
     "output_type": "execute_result"
    }
   ],
   "source": [
    "from langchain_core.documents import Document\n",
    "\n",
    "document_1 = Document(\n",
    "    page_content=\"My name is Jean-Luc deSaint-Deny born in 2027 at a fried chicken store named NFC which stands for Not Fried Chicken.\",\n",
    "    metadata={\"source\": \"me\"},\n",
    ")\n",
    "\n",
    "vector_store.add_documents([document_1])"
   ]
  },
  {
   "cell_type": "code",
   "execution_count": 12,
   "id": "bb685cce",
   "metadata": {},
   "outputs": [],
   "source": [
    "# On instancie un outil de récupération d'informations \n",
    "\n",
    "retriever_tool = create_retriever_tool(\n",
    "    retriever=retriever,\n",
    "    name=\"retriever_tool\",\n",
    "    description=\"A tool to retrieve private company information related to MGI Digital Technology.\",\n",
    ")\n",
    "\n",
    "tools = [retriever_tool]"
   ]
  },
  {
   "cell_type": "code",
   "execution_count": 13,
   "id": "9939bf3e",
   "metadata": {},
   "outputs": [],
   "source": [
    "# Définition de la classe qui jouera le rôle d'état de l'agent\n",
    "\n",
    "class AgentState(TypedDict):\n",
    "    messages: Annotated[Sequence[BaseMessage], add_messages] # Ici, l'état se résume en une série de messages"
   ]
  },
  {
   "cell_type": "code",
   "execution_count": 54,
   "id": "343bd76e",
   "metadata": {},
   "outputs": [],
   "source": [
    "# Cette fonction détermine si les documents sont pertinents ou non\n",
    "\n",
    "# Elle prend en entrée l'état de l'agent\n",
    "# Elle renvoie une valeur binaire : \"generate\" ou \"rewrite\"\n",
    "\n",
    "def grade_documents(state) -> Literal[\"generate\", \"rewrite\"]:\n",
    "    # Modèle de données\n",
    "    class grade(BaseModel):\n",
    "        binary_score: str = Field(description=\"Score de pertinence : yes or no\")\t\n",
    "\n",
    "    model = ChatOllama(temperature = 0, model=\"gemma3:4b-it-qat\", streaming=True)  # LLM\n",
    "    llm_with_tool = model.with_structured_output(grade)                 # LLM avec sortie structurée\n",
    "\n",
    "    # Prompt\n",
    "    prompt = PromptTemplate(\n",
    "        template=\"\"\"You are a grader assessing relevance of a retrieved document to a user question. \\n \n",
    "        Here is the retrieved document: \\n\\n {context} \\n\\n\n",
    "        Here is the user question: {question} \\n\n",
    "        If the document contains keyword(s) or semantic meaning related to the user question, grade it as relevant. \\n\n",
    "        Give a binary score 'yes' or 'no' score to indicate whether the document is relevant to the question.\"\"\",\n",
    "        input_variables=[\"context\", \"question\"],\n",
    "    )\n",
    "\n",
    "    # Chaine de traitement/décision/prompt\n",
    "    chain = prompt | llm_with_tool\n",
    "\n",
    "    messages = state[\"messages\"]\n",
    "    last_message = messages[-1]\n",
    "\n",
    "    question = messages[0].content\n",
    "    docs = last_message.content\n",
    "\n",
    "    \n",
    "    scored_result = chain.invoke({\"question\": question, \"context\": docs})\n",
    "\n",
    "    score = scored_result.binary_score\n",
    "\n",
    "    if score == \"yes\":\n",
    "        print(\"---DOCUMENTS RELEVANT---\")\n",
    "        return \"generate\"\n",
    "\n",
    "    else:\n",
    "        print(\"---DOCUMENTS NOT RELEVANT---\")\n",
    "        print(score)\n",
    "        return \"rewrite\"\n",
    "\n",
    "\n",
    "\n",
    "# Cette fonction appelle l'agent pour générer une réponse basée sur l'état actuel\n",
    "\n",
    "# Elle prend en entrée l'état de l'agent\n",
    "# Elle renvoie l'état mis à jour, avec le nouveau message ajouté à l'état\n",
    "\n",
    "def agent(state):\n",
    "    print(\"---CALLING AGENT---\")\n",
    "    messages = state[\"messages\"]\n",
    "    model = ChatOllama(temperature = 0, model=\"mistral\", streaming=True)\n",
    "    model = model.bind_tools(tools)\n",
    "    \n",
    "    response = model.invoke(messages)\n",
    "    # We return a list, because this will get added to the existing list\n",
    "    return {\"messages\": [response]}\n",
    "    \n",
    "\n",
    "\n",
    "\n",
    "# Cette fonction est appelée lorsque l'agent a décidé de reformuler la question\n",
    "\n",
    "# Elle prend en entrée l'état de l'agent\n",
    "# Elle renvoie l'état mis à jour, avec la question reformulée\n",
    "\n",
    "\n",
    "REWRITE_PROMPT = (\n",
    "    \"Look at the input and try to reason about the underlying semantic intent / meaning.\\n\"\n",
    "    \"Here is the initial question:\"\n",
    "    \"\\n ------- \\n\"\n",
    "    \"{question}\"\n",
    "    \"\\n ------- \\n\"\n",
    "    \"Formulate an improved question:\"\n",
    ")\n",
    "\n",
    "\n",
    "def rewrite(state):\n",
    "    print(\"---REWRITING---\")\n",
    "    messages = state[\"messages\"]\n",
    "    question = messages[0].content\n",
    "\n",
    "    print(question)\n",
    "\n",
    "    prompt = REWRITE_PROMPT.format(question=question)\n",
    "\n",
    "    # Grader\n",
    "    \n",
    "    model = ChatOllama(temperature = 0, model=\"mistral\", streaming = True)\n",
    "    response = model.invoke(prompt)\n",
    "    return {\"messages\": [response]}\n",
    "\n",
    "\n",
    "\n",
    "\n",
    "# Cette fonction est appelée lorsque l'agent a décidé de générer une réponse\n",
    "\n",
    "# Elle prend en entrée l'état de l'agent\n",
    "# Elle renvoie l'état mis à jour, avec la réponse générée\n",
    "\n",
    "def generate(state):\n",
    "    print(\"---GENERATING RESPONSE---\")\n",
    "    messages = state[\"messages\"]\n",
    "    question = messages[0].content\n",
    "    last_message = messages[-1]\n",
    "\n",
    "    docs = last_message.content\n",
    "\n",
    "    # Prompt\n",
    "    prompt = PromptTemplate(\n",
    "        template=\"\"\"You are an assistant working for the private company MGI Digital Technology in question-answering tasks related only to MGI Digital Technology.\n",
    "                    Refuse to answer any questions for which the answer cannot be found in the retrieved context by saying that you can only answer questions related to MGI Digital Technology.\n",
    "                    Use only the following pieces of retrieved context to answer the question.\n",
    "                    You are only allowed to disclose private information not known to the public if it is in the context provided.\n",
    "                    Be as precise as you can while remaining concise.\n",
    "                    End by specifying the source of the informations by providing the exact page on which the informations where found.\n",
    "                    If no clear source can be found, say you don't know the source.\n",
    "        Question: {question} \n",
    "        Context: {context} \n",
    "        Answer:\n",
    "                    \"\"\")\n",
    "\n",
    "    # LLM\n",
    "    model = ChatOllama(temperature = 0, model=\"mistral\", streaming=True)\n",
    "\n",
    "    # Post-processing\n",
    "    def format_docs(docs):\n",
    "        return \"\\n\\n\".join(doc.page_content for doc in docs)\n",
    "\n",
    "    # Chain\n",
    "    rag_chain = prompt | model | StrOutputParser()\n",
    "\n",
    "    # Run\n",
    "    \n",
    "    response = rag_chain.invoke({\"context\": docs, \"question\": question})\n",
    "    return {\"messages\": [response]}"
   ]
  },
  {
   "cell_type": "code",
   "execution_count": 55,
   "id": "9c2003db",
   "metadata": {},
   "outputs": [],
   "source": [
    "# Cette procédure permet d'afficher le graphe \n",
    "\n",
    "def display_graph(graph):\n",
    "    from IPython.display import Image, display\n",
    "\n",
    "    try:\n",
    "        display(Image(graph.get_graph(xray=True).draw_mermaid_png()))\n",
    "    except Exception:\n",
    "        pass"
   ]
  },
  {
   "cell_type": "code",
   "execution_count": 56,
   "id": "e5f11523",
   "metadata": {},
   "outputs": [],
   "source": [
    "\n",
    "# Instantiation d'un workflow\n",
    "workflow = StateGraph(AgentState)\n",
    "\n",
    "# === DEFINITION DES SOMMETS DU GRAPHE ===\n",
    "\n",
    "workflow.add_node(\"agent\", agent)                               # L'agent\n",
    "workflow.add_node(\"retrieve\", ToolNode([retriever_tool]))       # L'outil de récupération d'informations\n",
    "workflow.add_node(\"rewrite\", rewrite)                           # La reformulation de la question\n",
    "workflow.add_node(\"generate\", generate)                         # La génération de la réponse\n",
    "# workflow.add_node(\"evaluator\", fact_check)                    # Le module de vérification de la réponse\n",
    "\n",
    "# === DEFINITION DES ARRÊTES DU GRAPHE ===\n",
    "\n",
    "workflow.add_edge(START, \"agent\")\n",
    "\n",
    "workflow.add_conditional_edges(\n",
    "    \"agent\",                             # On part de l'agent     \n",
    "    tools_condition,                     # Soit on doit utiliser un outil, soit on doit terminer le workflow\n",
    "    {\n",
    "        \"tools\": \"retrieve\",             # Issue : Récupèrer des infos\n",
    "        END: \"generate\",                 # Issue : Terminer le workflow\n",
    "    },\n",
    ")\n",
    "\n",
    "workflow.add_conditional_edges(\n",
    "    \"retrieve\",                          # On part de l'outil de récupération d'infos\n",
    "    grade_documents,                     # On juge de la pertinence des documents\n",
    ")\n",
    "\n",
    "workflow.add_edge(\"generate\", END)       # Le document était pertinent, on génère une réponse et on termine le workflow\n",
    "workflow.add_edge(\"rewrite\", \"agent\")   # Le document n'était pas pertinent, on recommence \n",
    "\n",
    "# workflow.add_edge(\"evaluator\", END)    # On évalue la réponse, on recommence si elle n'est pas satisfaisante\n",
    "\n",
    "\n",
    "# Compilation du graphe\n",
    "graph = workflow.compile()\n"
   ]
  },
  {
   "cell_type": "code",
   "execution_count": 57,
   "id": "886f5cb0",
   "metadata": {},
   "outputs": [
    {
     "data": {
      "image/png": "[encoded data removed]",
      "text/plain": [
       "<IPython.core.display.Image object>"
      ]
     },
     "metadata": {},
     "output_type": "display_data"
    }
   ],
   "source": [
    "display_graph(graph)  # Affichage du graphe"
   ]
  },
  {
   "cell_type": "code",
   "execution_count": null,
   "id": "848cce7d",
   "metadata": {},
   "outputs": [],
   "source": [
    "inputs = {\n",
    "    \"messages\": [\n",
    "        (\"user\", \"When was Netflix created?\"),\n",
    "    ]\n",
    "}\n",
    "for output in graph.stream(inputs):\n",
    "    for key, value in output.items():\n",
    "        pprint(f\"Output from node '{key}':\")\n",
    "        pprint(\"---\")\n",
    "        pprint(value, indent=2, width=120, depth=None)\n",
    "    pprint(\"\\n---\\n\")"
   ]
  },
  {
   "cell_type": "code",
   "execution_count": 58,
   "id": "e0fb7a93",
   "metadata": {},
   "outputs": [
    {
     "name": "stdout",
     "output_type": "stream",
     "text": [
      "---CALLING AGENT---\n",
      "\"Output from node 'agent':\"\n",
      "'---'\n",
      "{ 'messages': [ AIMessage(content='', additional_kwargs={}, response_metadata={'model': 'mistral', 'created_at': '2025-05-07T13:52:08.0640251Z', 'done': True, 'done_reason': 'stop', 'total_duration': 437467100, 'load_duration': 6141200, 'prompt_eval_count': 89, 'prompt_eval_duration': 6640400, 'eval_count': 26, 'eval_duration': 423603300, 'model_name': 'mistral'}, id='run--6e30b3b5-a10e-4a2b-8b72-afa1df2152cd-0', tool_calls=[{'name': 'retriever_tool', 'args': {'query': 'MGI Digital Technology Headquarters Address'}, 'id': '4ab9d0a3-4b0a-4577-a1ab-84a636b8ce05', 'type': 'tool_call'}], usage_metadata={'input_tokens': 89, 'output_tokens': 26, 'total_tokens': 115})]}\n",
      "'\\n---\\n'\n",
      "---DOCUMENTS RELEVANT---\n",
      "\"Output from node 'retrieve':\"\n",
      "'---'\n",
      "{ 'messages': [ ToolMessage(content='AccurioShine 3600  \\n \\nUser Manual - 2 - \\n \\n \\n \\n \\n \\n \\n \\n \\n \\n \\n \\n \\n \\n \\n \\n \\n \\n \\nCreated by MGI Digital Technology  \\n4, rue de la Méridienne \\n94260 Fresnes \\nFRANCE \\n \\nIf you have any comments or suggestions about this manual, feel free to report them to your local SSD \\norganization (Technical Support), which will forward them to MGI. Thank you! \\n  \\nCopyright © 2006-2025 MGI S.A. All rights reserved. \\n \\nThe copyright protection includes all forms of material content and information subject to all applicable legal \\nstandards of government regulations and relevant laws of judicial court protection. This includes without \\nexception the contents generated by software and displayed on the screen such as format, patterns, symbols, \\nscreen display, layout. \\n \\nMGI®, the MGI logo and all MGI products mentioned in this document are trademarks of MGI Digital Technology, \\nin France (FR) and/or other countries. AccurioShine is a trademark of Konica Minolta Inc. All brand names and \\nproducts mentioned are trademarks of their respective holders and are hereby acknowledged. \\n \\nThis document is not a contractual document and technical specifications are subject to change without notice. \\n \\nConfidential - document strictly reserved to authorized persons by MGI Digital Technology\\n\\nUser Manual - 7 - \\n \\nAccurioShine 3600  \\n1 REVISION HISTORY \\nThe following changes have been made from the original version. \\n \\nVersion Date Comments \\nVersion 1.0 28/01/2022 Initial release \\nVersion 1.1 11/02/2022 iFOIL One compatibility added \\nVersion 1.2 21/02/2022 New LED error status added when the Hoya LED Type 2 is wired  \\nVersion 1.3 15/03/2022 UK Declaration of Conformity certificates (Printer + Universal Feeder) \\nVersion 1.4 16/05/2022 Optional iFOIL One module described \\nOptional CTS S Corona module described \\nVersion 1.5 08/06/2022 Warning added about Workstation mouse cleaning after printhead \\ncleaning \\nVersion 1.6 17/01/2023 Front page logo changed \\n4 error messages from orange to red status \\nVersion 1.7 12/05/2023 EC certificates changed - Batch #1 & batch #2 introduced \\nVersion 1.8 22/05/2023 New instructions about the MGI LED Flashlights – see page 22 \\nVersion 1.9 02/06/2023 Special substrates remarks added – see page 25 \\nVersion 2.0 20/09/2023 New MGI flashlight shipped with the equipment – new instructions how \\nto use it – see pages 22-23 \\nVersion 2.1 23/10/2024 EC & UK Certificates updated – Batch #3 introduced \\nVersion 2.2 13/03/2025 Important recommendation added - sticky substrates & Substrate \\nthickness \\n   \\n \\nThis manual covers the features of the equipment produced by MGI, from September 2023. \\n \\n \\nREMARK ABOUT THE COVER COLORS \\nThe colors of the equipment cover (grey and blue) used in the manual  \\ndoes not always match the colors of the covers of your own equipment.  \\n \\nThis does not change at all the quality and accuracy of these operating instructions.\\n\\nAccurioShine 3600 \\n \\n \\n \\nUser Manual - 24 - \\n \\nTo avoid a varnish polymerization generated by a MGI LED flashlight, we are giving you the maximum \\nexposure timing and distances to respect . Any polymerization damage occurred by a not authorized \\nusage, will not be covered by the manufacturer or the Service Contract. \\n \\n \\n• MGI LED Flashlight V1 \\nVarnish Types MGI LED Flashlight V1 \\nMGI 3D varnish families  \\n(LED & UV) \\n \\nDIRECT EXPOSURE (worst case) \\nMax. 1 min. at 20 cm away from the PrintHeads \\n \\n• MGI LED Flashlight V2 \\nVarnish Types MGI LED Flashlight V2 \\nMGI 3D varnish families  \\n(LED & UV) \\nALWAYS use the 50% power position on the \\nFlashlight  \\n(Press once the ON/OFF button) \\n \\nDIRECT EXPOSURE (worst case) \\nMax. 8 min. at 20 cm away from the PrintHeads \\n \\n• MGI LED Flashlight V3 \\nVarnish Types MGI LED Flashlight V3 \\nMGI 3D varnish families  \\n(LED & UV) \\nALWAYS use the yellow color position on the \\nFlashlight  \\n(yellow = warm color) \\n \\n(Press TWICE the ON/OFF button). If you keep depressed \\nthis button, the light intensity is progressively reduced. \\n \\nDIRECT EXPOSURE (worst case) \\nMax. 8 min. at 20 cm away from the PrintHeads \\n \\nDO NOT USE THE FRONT LIGHT (activated by the \\n2nd smaller ON/OFF button) \\nReminder \\nTo order the authorized MGI Flashlight, use the PN 5254 (currently, the \\nMGI Flashlight V3 from mid-2023).\\n\\nAccurioShine 3600 \\n \\n \\n \\nUser Manual - 23 - \\n \\n3.11 LED Flashlights used nearby the UV Printheads \\nWhen the Operator needs to perform some maintenance operations inside the UV Print Engine, it might \\nbe convenient to use a Flashlight to better see inside this cabinet. \\n \\nThe MGI LED flashlights are the only authorized light sources to avoid any polymerization problem within \\nthe Printheads and/or the Varnish circuits. Any other lights are prohibited (Smartphone, Maglite, …). \\n \\nMGI delivered several Flashlight models over time: \\n \\n• Original LED Flashlight (V1) delivered until June 2022 (see picture #1). \\n \\n \\nPicture #1 – MGI LED Flashlight V1 \\n \\n \\n \\n• From September 2022, MGI changed to another LED Flashlight (see picture #2). \\n \\n \\nPicture #2 – MGI LED Flashlight V2 \\n \\n \\n \\n \\n• From mid-2023, due to a sourcing issue, MGI changed to this LED Flashlight (see picture #3). \\n \\n \\nPicture #3 – MGI LED Flashlight V3 \\n \\n \\nMGI is continuously modifying the varnish formulas to comply with stricter environmental regulations and \\nto improve overall varnish performances. These chemical changes introduced a greater sensitivity to the \\nUV radiations. After recent tests, MGI Chemical Department demonstrated the MGI LED Flashlights could \\nemit enough UV radiations to have an impact on the varnish polymerization.  \\n  \\nON/OFF button \\nON/OFF button', name='retriever_tool', id='ed761560-488f-41ab-b4d8-e033c38f9595', tool_call_id='4ab9d0a3-4b0a-4577-a1ab-84a636b8ce05')]}\n",
      "'\\n---\\n'\n",
      "---GENERATING RESPONSE---\n",
      "\"Output from node 'generate':\"\n",
      "'---'\n",
      "{ 'messages': [ ' The address of MGI headquarters is located at 4, rue de la Méridienne, 94260 Fresnes, FRANCE. This '\n",
      "                'information was found on page 2 of the User Manual for AccurioShine 3600.']}\n",
      "'\\n---\\n'\n"
     ]
    }
   ],
   "source": [
    "inputs = {\n",
    "    \"messages\": [\n",
    "        (\"user\", \"What is the adress of MGI headquarters?\"),\n",
    "    ]\n",
    "}\n",
    "for output in graph.stream(inputs):\n",
    "    for key, value in output.items():\n",
    "        pprint(f\"Output from node '{key}':\")\n",
    "        pprint(\"---\")\n",
    "        pprint(value, indent=2, width=120, depth=None)\n",
    "    pprint(\"\\n---\\n\")"
   ]
  },
  {
   "cell_type": "code",
   "execution_count": 22,
   "id": "414fe0b3",
   "metadata": {},
   "outputs": [],
   "source": [
    "# Cette fonction encapsule les appels au graphe\n",
    "\n",
    "def ask_ai(message):\n",
    "    if(type(message) != str):\n",
    "        raise TypeError(\"Message must be a string\")    \n",
    "    \n",
    "    inputs = { \"messages\": [(\"user\", message)]}\n",
    "    \n",
    "    graph = workflow.compile()\n",
    "\n",
    "    for output in graph.stream(inputs):\n",
    "        # print(output)\n",
    "        pass\n",
    "        # for key, value in output.items():\n",
    "        #     # print(f\"Output from node '{key}':\")\n",
    "        #     # pprint(value, indent=2, width=110, depth=None)\n",
    "    \n",
    "    try:\n",
    "        result = output[\"agent\"][\"messages\"][0]\n",
    "    except:\n",
    "        result = output[\"generate\"][\"messages\"][0]\n",
    "\n",
    "    return result            "
   ]
  },
  {
   "cell_type": "code",
   "execution_count": 23,
   "id": "2f6453c8",
   "metadata": {},
   "outputs": [
    {
     "name": "stdout",
     "output_type": "stream",
     "text": [
      "---CALLING AGENT---\n",
      "---DOCUMENTS RELEVANT---\n",
      "---GENERATING RESPONSE---\n",
      "\n",
      "\n",
      "---RESULTAT FINAL---\n",
      "(' The address of MGI headquarters is located at 4, rue de la Méridienne, '\n",
      " '94260 Fresnes, FRANCE. (Source: User Manual - 2)')\n"
     ]
    }
   ],
   "source": [
    "res = ask_ai(\"What is the adress of MGI headquarters?\")  # Appel à l'agent\n",
    "\n",
    "print(\"\\n\\n---RESULTAT FINAL---\")\n",
    "pprint(res, indent=2, width=80, depth=None)"
   ]
  },
  {
   "cell_type": "code",
   "execution_count": null,
   "id": "95a6255a",
   "metadata": {},
   "outputs": [],
   "source": [
    "# def evaluator(state):\n",
    "#     print(\"---EVALUATION---\")\n",
    "#     messages = state[\"messages\"]\n",
    "#     question = messages[0].content\n",
    "#     last_message = messages[-1].content\n",
    "#     print(\"Question: {question}\")\n",
    "#     print(\"Answer: {last_message}\")\n",
    "\n",
    "#     return {\"messages\": []}"
   ]
  },
  {
   "cell_type": "code",
   "execution_count": null,
   "id": "05c57d84",
   "metadata": {},
   "outputs": [],
   "source": [
    "# # Cette fonction évalue la réponse de l'agent\n",
    "\n",
    "# # Elle prend en entrée la question, la réponse correcte et la réponse de l'agent\n",
    "# # Elle renvoie un score compris entre 0 et 1  \n",
    "\n",
    "# def fact_check(question, correct_answer, agent_answer):\n",
    "#     prompt = f\"\"\"You are a teacher grading a quiz. \n",
    "# You will be given a QUESTION, the GROUND TRUTH (correct) ANSWER, and the STUDENT ANSWER. \n",
    "# Here is the grade criteria to follow:\n",
    "# (1) Grade the student answers based ONLY on their factual accuracy relative to the ground truth answer. \n",
    "# (2) Ensure that the student answer does not contain any conflicting statements.\n",
    "# (3) It is OK if the student answer contains more information than the ground truth answer, as long as it is factually accurate relative to the  ground truth answer.\n",
    "# Score:\n",
    "# A score of 1 means that the student's answer meets all of the criteria. This is the highest (best) score. \n",
    "# A score of 0 means that the student's answer does not meet all of the criteria. This is the lowest possible score you can give.\n",
    "# The score should be a float between 0 and 1, inclusive.\n",
    "# You must only give the score.\n",
    "# ---\n",
    "# QUESTION:\n",
    "# {question}\n",
    "# ---\n",
    "# GROUND TRUTH ANSWER: \n",
    "# {correct_answer}\n",
    "# ---\n",
    "# STUDENT ANSWER: \n",
    "# {agent_answer}\n",
    "# ---\n",
    "# \"\"\"\n",
    "\n",
    "\n",
    "#     model = ChatmistralAI(temperature=0, streaming=True, model=model)\n",
    "    \n",
    "#     response = model.invoke(prompt)\n",
    "#     return (float)(response.content)"
   ]
  },
  {
   "cell_type": "code",
   "execution_count": null,
   "id": "4f52f6d5",
   "metadata": {},
   "outputs": [],
   "source": [
    "# print(fact_check(\"Est-ce que ça va ?\", \"Oui, ça va.\", \"Non, ça ne va pas.\")) # 0.0\n",
    "# print(fact_check(\"Est-ce que ça va ?\", \"Oui, ça va.\", \"Oui, ça va.\")) # 1.0\n",
    "\n",
    "# print(fact_check(\"Quelle est la date de la révolution française ?\", \"mardi 14 juillet 1789\", \"1789\")) # 0.5"
   ]
  },
  {
   "cell_type": "code",
   "execution_count": null,
   "id": "c56d40ab",
   "metadata": {},
   "outputs": [],
   "source": []
  }
 ],
 "metadata": {
  "kernelspec": {
   "display_name": "Python 3",
   "language": "python",
   "name": "python3"
  },
  "language_info": {
   "codemirror_mode": {
    "name": "ipython",
    "version": 3
   },
   "file_extension": ".py",
   "mimetype": "text/x-python",
   "name": "python",
   "nbconvert_exporter": "python",
   "pygments_lexer": "ipython3",
   "version": "3.13.3"
  }
 },
 "nbformat": 4,
 "nbformat_minor": 5
}
